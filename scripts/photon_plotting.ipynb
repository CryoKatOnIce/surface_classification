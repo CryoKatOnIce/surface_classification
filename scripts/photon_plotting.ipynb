{
 "cells": [
  {
   "cell_type": "markdown",
   "metadata": {},
   "source": [
    "## ATL03 Open data and simple plot of pulse"
   ]
  },
  {
   "cell_type": "markdown",
   "metadata": {},
   "source": [
    "This notebook is for pening data with hdf5 and simple visualisation of the photons per one pulse. Created for Unsupervised Surface Classification procject at Hackweek 2020"
   ]
  },
  {
   "cell_type": "markdown",
   "metadata": {},
   "source": [
    "**This file must be finished with plotting the correct variables, currently sigma_h is plotted**"
   ]
  },
  {
   "cell_type": "markdown",
   "metadata": {},
   "source": [
    "List the downloaded data files and read in data from one of them."
   ]
  },
  {
   "cell_type": "code",
   "execution_count": 11,
   "metadata": {},
   "outputs": [],
   "source": [
    "import h5py\n",
    "import numpy as np\n",
    "from pathlib import Path\n",
    "import pyproj\n",
    "%matplotlib inline"
   ]
  },
  {
   "cell_type": "code",
   "execution_count": 4,
   "metadata": {},
   "outputs": [],
   "source": [
    "#Here specify path to data \n",
    "data_home = Path('/home/jovyan/unsupervised_project/download/')"
   ]
  },
  {
   "cell_type": "code",
   "execution_count": 5,
   "metadata": {},
   "outputs": [
    {
     "name": "stdout",
     "output_type": "stream",
     "text": [
      "[PosixPath('/home/jovyan/unsupervised_project/download/processed_ATL03_20190525195203_08790305_003_01.h5'), PosixPath('/home/jovyan/unsupervised_project/download/processed_ATL03_20190529194342_09400305_003_01.h5')]\n"
     ]
    }
   ],
   "source": [
    "files = list(data_home.glob('*.h5'))\n",
    "print(files) #list files in directory"
   ]
  },
  {
   "cell_type": "markdown",
   "metadata": {},
   "source": [
    "To investigate the structure of the file we can vie the dictionary:"
   ]
  },
  {
   "cell_type": "code",
   "execution_count": 6,
   "metadata": {
    "scrolled": true
   },
   "outputs": [
    {
     "name": "stdout",
     "output_type": "stream",
     "text": [
      "/                        Group\n",
      "/METADATA                Group\n",
      "/METADATA/AcquisitionInformation Group\n",
      "/METADATA/AcquisitionInformation/lidar Group\n",
      "/METADATA/AcquisitionInformation/lidarDocument Group\n",
      "/METADATA/AcquisitionInformation/platform Group\n",
      "/METADATA/AcquisitionInformation/platformDocument Group\n",
      "/METADATA/DataQuality    Group\n",
      "/METADATA/DataQuality/CompletenessOmission Group\n",
      "/METADATA/DataQuality/DomainConsistency Group\n",
      "/METADATA/DatasetIdentification Group\n",
      "/METADATA/Extent         Group\n",
      "/METADATA/Lineage        Group\n",
      "/METADATA/Lineage/ANC01  Group\n",
      "/METADATA/Lineage/ANC03  Group\n",
      "/METADATA/Lineage/ANC04  Group\n",
      "/METADATA/Lineage/ANC05  Group\n",
      "/METADATA/Lineage/ANC06-01 Group\n",
      "/METADATA/Lineage/ANC06-02 Group\n",
      "/METADATA/Lineage/ANC06-03 Group\n",
      "/METADATA/Lineage/ANC07  Group\n",
      "/METADATA/Lineage/ANC08  Group\n",
      "/METADATA/Lineage/ANC11  Group\n",
      "/METADATA/Lineage/ANC12-01 Group\n",
      "/METADATA/Lineage/ANC12-02 Group\n",
      "/METADATA/Lineage/ANC19  Group\n",
      "/METADATA/Lineage/ANC22  Group\n",
      "/METADATA/Lineage/ANC23  Group\n",
      "/METADATA/Lineage/ANC25-03 Group\n",
      "/METADATA/Lineage/ANC26-03 Group\n",
      "/METADATA/Lineage/ANC28  Group\n",
      "/METADATA/Lineage/ANC29  Group\n",
      "/METADATA/Lineage/ANC36-03 Group\n",
      "/METADATA/Lineage/ANC38-03 Group\n",
      "/METADATA/Lineage/ANC41  Group\n",
      "/METADATA/Lineage/ATL02  Group\n",
      "/METADATA/Lineage/Control Group\n",
      "/METADATA/ProcessStep    Group\n",
      "/METADATA/ProcessStep/Browse Group\n",
      "/METADATA/ProcessStep/Metadata Group\n",
      "/METADATA/ProcessStep/PGE Group\n",
      "/METADATA/ProcessStep/QA Group\n",
      "/METADATA/ProductSpecificationDocument Group\n",
      "/METADATA/QADatasetIdentification Group\n",
      "/METADATA/SeriesIdentification Group\n",
      "/ancillary_data          Group\n",
      "/ancillary_data/atlas_sdp_gps_epoch Dataset {1}\n",
      "/ancillary_data/data_end_utc Dataset {1}\n",
      "/ancillary_data/data_start_utc Dataset {1}\n",
      "/ancillary_data/end_delta_time Dataset {1}\n",
      "/ancillary_data/granule_end_utc Dataset {1}\n",
      "/ancillary_data/granule_start_utc Dataset {1}\n",
      "/ancillary_data/start_delta_time Dataset {1}\n",
      "/gt1l                    Group\n",
      "/gt1l/geolocation        Group\n",
      "/gt1l/geolocation/sigma_h Dataset {3294/Inf}\n",
      "/gt1l/geolocation/sigma_lat Dataset {3294/Inf}\n",
      "/gt1l/geolocation/sigma_lon Dataset {3294/Inf}\n",
      "/gt1l/geolocation/surf_type Dataset {3294/Inf, 5}\n",
      "/gt1r                    Group\n",
      "/gt1r/geolocation        Group\n",
      "/gt1r/geolocation/sigma_h Dataset {3322/Inf}\n",
      "/gt1r/geolocation/sigma_lat Dataset {3322/Inf}\n",
      "/gt1r/geolocation/sigma_lon Dataset {3322/Inf}\n",
      "/gt1r/geolocation/surf_type Dataset {3322/Inf, 5}\n",
      "/gt2l                    Group\n",
      "/gt2l/geolocation        Group\n",
      "/gt2l/geolocation/sigma_h Dataset {4305/Inf}\n",
      "/gt2l/geolocation/sigma_lat Dataset {4305/Inf}\n",
      "/gt2l/geolocation/sigma_lon Dataset {4305/Inf}\n",
      "/gt2l/geolocation/surf_type Dataset {4305/Inf, 5}\n",
      "/gt2r                    Group\n",
      "/gt2r/geolocation        Group\n",
      "/gt2r/geolocation/sigma_h Dataset {4332/Inf}\n",
      "/gt2r/geolocation/sigma_lat Dataset {4332/Inf}\n",
      "/gt2r/geolocation/sigma_lon Dataset {4332/Inf}\n",
      "/gt2r/geolocation/surf_type Dataset {4332/Inf, 5}\n",
      "/gt3l                    Group\n",
      "/gt3l/geolocation        Group\n",
      "/gt3l/geolocation/sigma_h Dataset {5316/Inf}\n",
      "/gt3l/geolocation/sigma_lat Dataset {5316/Inf}\n",
      "/gt3l/geolocation/sigma_lon Dataset {5316/Inf}\n",
      "/gt3l/geolocation/surf_type Dataset {5316/Inf, 5}\n",
      "/gt3r                    Group\n",
      "/gt3r/geolocation        Group\n",
      "/gt3r/geolocation/sigma_h Dataset {5345/Inf}\n",
      "/gt3r/geolocation/sigma_lat Dataset {5345/Inf}\n",
      "/gt3r/geolocation/sigma_lon Dataset {5345/Inf}\n",
      "/gt3r/geolocation/surf_type Dataset {5345/Inf, 5}\n",
      "/orbit_info              Group\n",
      "/orbit_info/sc_orient    Dataset {1/Inf}\n",
      "/orbit_info/sc_orient_time Dataset {1/Inf}\n"
     ]
    }
   ],
   "source": [
    "!h5ls -r {files[0]} "
   ]
  },
  {
   "cell_type": "markdown",
   "metadata": {},
   "source": [
    "Create a reader to read in the data, extract variables and save them per track in seperate files:"
   ]
  },
  {
   "cell_type": "code",
   "execution_count": 7,
   "metadata": {},
   "outputs": [],
   "source": [
    "def transform_coord(proj1, proj2, x, y):\n",
    "    \"\"\"Transform coordinates from proj1 to proj2 (EPSG num).\n",
    "\n",
    "    Example EPSG projections:\n",
    "        Geodetic (lon/lat): 4326\n",
    "        Polar Stereo AnIS (x/y): 3031\n",
    "        Polar Stereo GrIS (x/y): 3413\n",
    "    \"\"\"\n",
    "    # Set full EPSG projection strings\n",
    "    proj1 = pyproj.Proj(\"+init=EPSG:\"+str(proj1))\n",
    "    proj2 = pyproj.Proj(\"+init=EPSG:\"+str(proj2))\n",
    "    return pyproj.transform(proj1, proj2, x, y)  # convert\n",
    "\n",
    "\n",
    "\n",
    "def read_atl03(fname, outdir='data'):\n",
    "    \"\"\"Read one ATL03 file and output 6 reduced files. \n",
    "    \n",
    "    Extract variables of interest and separate the ATL03 file \n",
    "    into each beam (ground track) and ascending/descending orbits.\n",
    "    \"\"\"\n",
    "\n",
    "    # Each beam is a group\n",
    "    group = ['/gt1l', '/gt1r', '/gt2l', '/gt2r', '/gt3l', '/gt3r']\n",
    "\n",
    "    # Loop trough beams\n",
    "    for k, g in enumerate(group):\n",
    "    \n",
    "        #-----------------------------------#\n",
    "        # Read in data for a single beam #\n",
    "        #-----------------------------------#\n",
    "        \n",
    "        data = {}\n",
    "    \n",
    "        try:\n",
    "            # Load vars into memory (include as many as you want)\n",
    "            with h5py.File(fname, 'r') as fi:\n",
    "                \n",
    "                data['lat'] = fi[g+'/geolocation/sigma_lat'][:]\n",
    "                data['lon'] = fi[g+'/geolocation/sigma_lon'][:]\n",
    "                data['height'] = fi[g+'/geolocation/sigma_h'][:]\n",
    "                data['surf_type'] = fi[g+'/geolocation/surf_type'][:]\n",
    "\n",
    "                \n",
    "                \n",
    "        except:\n",
    "            print('skeeping group:', g)\n",
    "            print('in file:', fname)\n",
    "            continue\n",
    " \n",
    "        #-----------------------#\n",
    "        # Convert Coordinates #\n",
    "        #-----------------------#\n",
    "        \n",
    "        # Geodetic lon/lat -> Polar Stereo x/y\n",
    "        x, y = transform_coord(4326, 3031, data['lon'], data['lat'])\n",
    "        \n",
    "        data['x'] = x\n",
    "        data['y'] = y\n",
    "        \n",
    "        \n",
    "        #-----------------------#\n",
    "        # Save selected data #\n",
    "        #-----------------------#\n",
    "        \n",
    "        # Define output dir and file\n",
    "        outdir = Path(outdir)    \n",
    "        fname = Path(fname)\n",
    "        outdir.mkdir(exist_ok=True)\n",
    "        outfile = outdir / fname.name.replace('.h5', '_' + g[1:] + '.h5')\n",
    "        \n",
    "        # Save variables\n",
    "        with h5py.File(outfile, 'w') as fo:\n",
    "            for k, v in data.items(): fo[k] = v\n",
    "            print('out ->', outfile)\n",
    " \n",
    "   \n",
    "              "
   ]
  },
  {
   "cell_type": "code",
   "execution_count": 8,
   "metadata": {},
   "outputs": [],
   "source": [
    "#Here specify outdir \n",
    "outdir = Path('/home/jovyan/unsupervised_project/data/')\n",
    "\n",
    "outdir.mkdir(exist_ok=True)"
   ]
  },
  {
   "cell_type": "markdown",
   "metadata": {},
   "source": [
    "Run the reader:"
   ]
  },
  {
   "cell_type": "code",
   "execution_count": 12,
   "metadata": {},
   "outputs": [
    {
     "name": "stdout",
     "output_type": "stream",
     "text": [
      "running in parallel (8 jobs) ...\n"
     ]
    },
    {
     "name": "stderr",
     "output_type": "stream",
     "text": [
      "[Parallel(n_jobs=8)]: Using backend LokyBackend with 8 concurrent workers.\n",
      "[Parallel(n_jobs=8)]: Done   2 out of   2 | elapsed:    1.7s remaining:    0.0s\n",
      "[Parallel(n_jobs=8)]: Done   2 out of   2 | elapsed:    1.7s finished\n"
     ]
    }
   ],
   "source": [
    "njobs = 8\n",
    "\n",
    "if njobs == 1:\n",
    "    print('running in serial ...')\n",
    "    [read_atl03(f, outdir) for f in files]\n",
    "\n",
    "else:\n",
    "    print('running in parallel (%d jobs) ...' % njobs)\n",
    "    from joblib import Parallel, delayed\n",
    "    Parallel(n_jobs=njobs, verbose=5)(delayed(read_atl03)(f, outdir) for f in files)\n",
    "\n"
   ]
  },
  {
   "cell_type": "markdown",
   "metadata": {},
   "source": [
    "Checking created files:"
   ]
  },
  {
   "cell_type": "code",
   "execution_count": 13,
   "metadata": {},
   "outputs": [
    {
     "name": "stdout",
     "output_type": "stream",
     "text": [
      "/home/jovyan/unsupervised_project/data/processed_ATL03_20190525195203_08790305_003_01_gt2r.h5\n",
      "/home/jovyan/unsupervised_project/data/processed_ATL03_20190529194342_09400305_003_01_gt2r.h5\n",
      "/home/jovyan/unsupervised_project/data/processed_ATL03_20190525195203_08790305_003_01_gt2l.h5\n",
      "/home/jovyan/unsupervised_project/data/processed_ATL03_20190529194342_09400305_003_01_gt2l.h5\n",
      "/home/jovyan/unsupervised_project/data/processed_ATL03_20190525195203_08790305_003_01_gt3r.h5\n",
      "/home/jovyan/unsupervised_project/data/processed_ATL03_20190525195203_08790305_003_01_gt1l.h5\n",
      "/home/jovyan/unsupervised_project/data/processed_ATL03_20190529194342_09400305_003_01_gt1l.h5\n",
      "/home/jovyan/unsupervised_project/data/processed_ATL03_20190529194342_09400305_003_01_gt3r.h5\n",
      "/home/jovyan/unsupervised_project/data/processed_ATL03_20190525195203_08790305_003_01_gt3l.h5\n",
      "/home/jovyan/unsupervised_project/data/processed_ATL03_20190529194342_09400305_003_01_gt1r.h5\n",
      "Total number of files: 12\n"
     ]
    }
   ],
   "source": [
    "#outfiles = !ls {outdir}/*.h5\n",
    "outfiles = list(outdir.glob('*.h5'))\n",
    "\n",
    "for f in outfiles[:10]: print(f)\n",
    "print('Total number of files:', len(outfiles))"
   ]
  },
  {
   "cell_type": "markdown",
   "metadata": {},
   "source": [
    "Let's check if the expected variables are in the file, and how many measurements we have."
   ]
  },
  {
   "cell_type": "code",
   "execution_count": 14,
   "metadata": {},
   "outputs": [
    {
     "name": "stdout",
     "output_type": "stream",
     "text": [
      "/                        Group\n",
      "/height                  Dataset {4332}\n",
      "/lat                     Dataset {4332}\n",
      "/lon                     Dataset {4332}\n",
      "/surf_type               Dataset {4332, 5}\n",
      "/x                       Dataset {4332}\n",
      "/y                       Dataset {4332}\n"
     ]
    }
   ],
   "source": [
    "!h5ls -r {outfiles[0]}"
   ]
  },
  {
   "cell_type": "markdown",
   "metadata": {},
   "source": [
    "## Reading one of the files and plotting sigma"
   ]
  },
  {
   "cell_type": "code",
   "execution_count": 61,
   "metadata": {},
   "outputs": [],
   "source": [
    "def read_atl03_track(fname):\n",
    "       \n",
    "    import pandas as pd\n",
    "    data = pd.DataFrame()\n",
    "    \n",
    "    with h5py.File(fname, 'r') as fi:\n",
    "         \n",
    "        data['x'] = fi['x'][:]\n",
    "        data['y'] = fi['y'][:]\n",
    "        data['height'] = fi['height'][:]\n",
    "        return data"
   ]
  },
  {
   "cell_type": "code",
   "execution_count": 62,
   "metadata": {},
   "outputs": [
    {
     "name": "stdout",
     "output_type": "stream",
     "text": [
      "              x             y  height\n",
      "0     25.122796  1.236743e+07     0.3\n",
      "1     25.128029  1.236743e+07     0.3\n",
      "2     25.133261  1.236743e+07     0.3\n",
      "3     25.138490  1.236743e+07     0.3\n",
      "4     25.143719  1.236743e+07     0.3\n",
      "...         ...           ...     ...\n",
      "4327  38.687569  1.236743e+07     0.3\n",
      "4328  38.688267  1.236743e+07     0.3\n",
      "4329  38.688967  1.236743e+07     0.3\n",
      "4330  38.689690  1.236743e+07     0.3\n",
      "4331  38.690387  1.236743e+07     0.3\n",
      "\n",
      "[4332 rows x 3 columns]\n"
     ]
    }
   ],
   "source": [
    "import pandas as pd\n",
    "\n",
    "file = list(outdir.glob('*.h5'))[0]\n",
    "\n",
    "data = read_atl03_track(file)\n",
    "\n",
    "print(data)"
   ]
  },
  {
   "cell_type": "markdown",
   "metadata": {},
   "source": [
    "Plotting the data:"
   ]
  },
  {
   "cell_type": "code",
   "execution_count": 63,
   "metadata": {},
   "outputs": [
    {
     "data": {
      "text/plain": [
       "<matplotlib.axes._subplots.AxesSubplot at 0x7f714999b610>"
      ]
     },
     "execution_count": 63,
     "metadata": {},
     "output_type": "execute_result"
    },
    {
     "data": {
      "image/png": "[encoded data removed]",
      "text/plain": [
       "<Figure size 432x288 with 2 Axes>"
      ]
     },
     "metadata": {
      "needs_background": "light"
     },
     "output_type": "display_data"
    }
   ],
   "source": [
    "data.plot(x='x', y='y', kind='scatter', c='height', s=1, cmap='inferno')"
   ]
  },
  {
   "cell_type": "markdown",
   "metadata": {},
   "source": [
    "clearly I have downloaded the wrong parameter here, instead of the photon point cloud I have height"
   ]
  },
  {
   "cell_type": "code",
   "execution_count": null,
   "metadata": {},
   "outputs": [],
   "source": []
  }
 ],
 "metadata": {
  "kernelspec": {
   "display_name": "Python 3",
   "language": "python",
   "name": "python3"
  },
  "language_info": {
   "codemirror_mode": {
    "name": "ipython",
    "version": 3
   },
   "file_extension": ".py",
   "mimetype": "text/x-python",
   "name": "python",
   "nbconvert_exporter": "python",
   "pygments_lexer": "ipython3",
   "version": "3.7.6"
  }
 },
 "nbformat": 4,
 "nbformat_minor": 4
}
